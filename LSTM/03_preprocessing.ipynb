{
 "cells": [
  {
   "cell_type": "markdown",
   "source": [
    "# 3. 데이터 전처리"
   ],
   "metadata": {
    "id": "pMEyRqRZdbmr"
   }
  },
  {
   "cell_type": "markdown",
   "source": [
    "2장에서는 모델 학습에 사용할 데이터를 탐색하여 데이터 특성을 확인해보았습니다. 3장에서는 시계열 데이터 전처리 방법을 확인해보겠습니다.  \n",
    "\n",
    "시계열 데이터를 지도학습 문제로 변환 하기 위해서는 예측 대상이 되는 타겟 변수와 예측할 때 사용하는 입력 변수 쌍으로 데이터를 가공해야 합니다. 또한 딥러닝 모델을 안정적으로 학습시키기 위해선 데이터의 스케일(scale)을 통일 시키는 작업이 필요합니다. 3.1절에서는 코로나 확진자 데이터를 지도학습용 데이터로 변환하는 과정을 알아볼 예정이며, 3.2절에서는 데이터 스케일링 방법을 확인하겠습니다.  "
   ],
   "metadata": {
    "id": "eWbSYUc4dg21"
   }
  },
  {
   "cell_type": "markdown",
   "source": [
    "## 3.1 지도학습용 데이터 구축"
   ],
   "metadata": {
    "id": "LATMT-vOiBai"
   }
  },
  {
   "cell_type": "markdown",
   "source": [
    "데이터 전처리 실습을 위해 앞서 2.1절에 나온 코드를 활용해 데이터를 불러오겠습니다."
   ],
   "metadata": {
    "id": "emYeU_6yvDfc"
   }
  },
  {
   "cell_type": "code",
   "execution_count": 1,
   "source": [
    "!git clone https://github.com/Pseudo-Lab/Tutorial-Book-Utils\r\n",
    "!python Tutorial-Book-Utils/PL_data_loader.py --data COVIDTimeSeries\r\n",
    "!unzip -q COVIDTimeSeries.zip"
   ],
   "outputs": [
    {
     "output_type": "stream",
     "name": "stderr",
     "text": [
      "fatal: destination path 'Tutorial-Book-Utils' already exists and is not an empty directory.\n"
     ]
    },
    {
     "output_type": "stream",
     "name": "stdout",
     "text": [
      "COVIDTimeSeries.zip is done!\n"
     ]
    },
    {
     "output_type": "stream",
     "name": "stderr",
     "text": [
      "'unzip'��(��) ���� �Ǵ� �ܺ� ����, ������ �� �ִ� ���α׷�, �Ǵ�\n",
      "��ġ ������ �ƴմϴ�.\n"
     ]
    }
   ],
   "metadata": {
    "colab": {
     "base_uri": "https://localhost:8080/"
    },
    "executionInfo": {
     "elapsed": 5589,
     "status": "ok",
     "timestamp": 1608432119294,
     "user": {
      "displayName": "안성진",
      "photoUrl": "https://lh3.googleusercontent.com/a-/AOh14GiCjgkN_MvtrSUHRuFvstrWm6fhi5cf7CKd2UHYAw=s64",
      "userId": "00266029492778998652"
     },
     "user_tz": -540
    },
    "id": "jmgiP7hDihW_",
    "outputId": "b5c826cf-9fc9-486f-8f7b-944bfd03830d"
   }
  },
  {
   "cell_type": "markdown",
   "source": [
    "2.3절에 나온 코드를 활용해 대한민국 일자별 확진자 데이터인 `daily_cases`를 산출하겠습니다."
   ],
   "metadata": {
    "id": "ypeC4OifvaK3"
   }
  },
  {
   "cell_type": "code",
   "execution_count": 2,
   "source": [
    "import pandas as pd\r\n",
    "confirmed = pd.read_csv('time_series_covid19_confirmed_global.csv')\r\n",
    "confirmed[confirmed['Country/Region']=='Korea, South']\r\n",
    "korea = confirmed[confirmed['Country/Region']=='Korea, South'].iloc[:,4:].T\r\n",
    "korea.index = pd.to_datetime(korea.index)\r\n",
    "daily_cases = korea.diff().fillna(korea.iloc[0]).astype('int')\r\n",
    "daily_cases"
   ],
   "outputs": [
    {
     "output_type": "execute_result",
     "data": {
      "text/html": [
       "<div>\n",
       "<style scoped>\n",
       "    .dataframe tbody tr th:only-of-type {\n",
       "        vertical-align: middle;\n",
       "    }\n",
       "\n",
       "    .dataframe tbody tr th {\n",
       "        vertical-align: top;\n",
       "    }\n",
       "\n",
       "    .dataframe thead th {\n",
       "        text-align: right;\n",
       "    }\n",
       "</style>\n",
       "<table border=\"1\" class=\"dataframe\">\n",
       "  <thead>\n",
       "    <tr style=\"text-align: right;\">\n",
       "      <th></th>\n",
       "      <th>157</th>\n",
       "    </tr>\n",
       "  </thead>\n",
       "  <tbody>\n",
       "    <tr>\n",
       "      <th>2020-01-22</th>\n",
       "      <td>1</td>\n",
       "    </tr>\n",
       "    <tr>\n",
       "      <th>2020-01-23</th>\n",
       "      <td>0</td>\n",
       "    </tr>\n",
       "    <tr>\n",
       "      <th>2020-01-24</th>\n",
       "      <td>1</td>\n",
       "    </tr>\n",
       "    <tr>\n",
       "      <th>2020-01-25</th>\n",
       "      <td>0</td>\n",
       "    </tr>\n",
       "    <tr>\n",
       "      <th>2020-01-26</th>\n",
       "      <td>1</td>\n",
       "    </tr>\n",
       "    <tr>\n",
       "      <th>...</th>\n",
       "      <td>...</td>\n",
       "    </tr>\n",
       "    <tr>\n",
       "      <th>2020-12-14</th>\n",
       "      <td>880</td>\n",
       "    </tr>\n",
       "    <tr>\n",
       "      <th>2020-12-15</th>\n",
       "      <td>1078</td>\n",
       "    </tr>\n",
       "    <tr>\n",
       "      <th>2020-12-16</th>\n",
       "      <td>1011</td>\n",
       "    </tr>\n",
       "    <tr>\n",
       "      <th>2020-12-17</th>\n",
       "      <td>1062</td>\n",
       "    </tr>\n",
       "    <tr>\n",
       "      <th>2020-12-18</th>\n",
       "      <td>1055</td>\n",
       "    </tr>\n",
       "  </tbody>\n",
       "</table>\n",
       "<p>332 rows × 1 columns</p>\n",
       "</div>"
      ],
      "text/plain": [
       "             157\n",
       "2020-01-22     1\n",
       "2020-01-23     0\n",
       "2020-01-24     1\n",
       "2020-01-25     0\n",
       "2020-01-26     1\n",
       "...          ...\n",
       "2020-12-14   880\n",
       "2020-12-15  1078\n",
       "2020-12-16  1011\n",
       "2020-12-17  1062\n",
       "2020-12-18  1055\n",
       "\n",
       "[332 rows x 1 columns]"
      ]
     },
     "metadata": {},
     "execution_count": 2
    }
   ],
   "metadata": {
    "colab": {
     "base_uri": "https://localhost:8080/",
     "height": 407
    },
    "executionInfo": {
     "elapsed": 1478,
     "status": "ok",
     "timestamp": 1608432122003,
     "user": {
      "displayName": "안성진",
      "photoUrl": "https://lh3.googleusercontent.com/a-/AOh14GiCjgkN_MvtrSUHRuFvstrWm6fhi5cf7CKd2UHYAw=s64",
      "userId": "00266029492778998652"
     },
     "user_tz": -540
    },
    "id": "LDrsndsCihdp",
    "outputId": "7329ccdc-bbc0-4c47-ef73-661889b5a02c"
   }
  },
  {
   "cell_type": "markdown",
   "source": [
    "위와 같은 시계열 데이터를 모델이 지도학습에 사용할 수 있도록 입력 변수와 타겟 변수의 쌍으로 데이터를 가공해야 합니다. 시계열 문제에서는 이러한 데이터를 시퀀스(sequence) 데이터라고도 합니다. 시퀀스 데이터로 가공하기 위해서는 먼저 시퀀스 길이(sequence length)를 정의해야 합니다. 시퀀스 길이는 과거 몇 개의 데이터를 바탕으로 미래를 예측할지를 정합니다. 예를 들어 시퀀스 길이가 5인 경우 $t$ 시점을 예측하기 위해 과거 $t-1$, $t-2$, $t-3$, $t-4$, $t-5$ 시점의 데이터를 활용하게 됩니다. 이처럼 $t-k$ 부터 $t-1$ 까지의 데이터로 $t$ 시점을 예측하는 것을 one-step prediction 과제라고 칭합니다. \n",
    "\n",
    "아래에 정의한 `create_sequences` 함수는 그림 3-1 처럼 크기가 N인 시계열 데이터를 N - seq_length 개의 지도학습용 데이터로 변환합니다.\n",
    "\n",
    "![](https://github.com/Pseudo-Lab/Tutorial-Book/blob/master/book/pics/TS-ch3img01.png?raw=true)\n",
    "\n",
    "\n",
    "\n"
   ],
   "metadata": {
    "id": "JRzJXo3Cx4qQ"
   }
  },
  {
   "cell_type": "markdown",
   "source": [
    "- 그림 3-1 시계열 데이터 변환 과정"
   ],
   "metadata": {
    "id": "bY9hvmnaBbay"
   }
  },
  {
   "cell_type": "code",
   "execution_count": 3,
   "source": [
    "import numpy as np\r\n",
    "\r\n",
    "def create_sequences(data, seq_length):\r\n",
    "    xs = []\r\n",
    "    ys = []\r\n",
    "    for i in range(len(data)-seq_length):\r\n",
    "        x = data.iloc[i:(i+seq_length)]\r\n",
    "        y = data.iloc[i+seq_length]\r\n",
    "        xs.append(x)\r\n",
    "        ys.append(y)\r\n",
    "    return np.array(xs), np.array(ys)\r\n",
    "\r\n",
    "seq_length = 5\r\n",
    "X, y = create_sequences(daily_cases, seq_length)"
   ],
   "outputs": [],
   "metadata": {
    "id": "04UXWETidbOD"
   }
  },
  {
   "cell_type": "markdown",
   "source": [
    "`seq_length`를 5로 정의하고 `create_sequences` 함수를 `daily_cases`에 적용하니 총 327개의 지도학습용 데이터가 구축된 것을 확인할 수 있습니다. "
   ],
   "metadata": {
    "id": "p0-zPOcd8p6p"
   }
  },
  {
   "cell_type": "code",
   "execution_count": 4,
   "source": [
    "X.shape, y.shape"
   ],
   "outputs": [
    {
     "output_type": "execute_result",
     "data": {
      "text/plain": [
       "((327, 5, 1), (327, 1))"
      ]
     },
     "metadata": {},
     "execution_count": 4
    }
   ],
   "metadata": {
    "colab": {
     "base_uri": "https://localhost:8080/"
    },
    "executionInfo": {
     "elapsed": 1784,
     "status": "ok",
     "timestamp": 1608432122365,
     "user": {
      "displayName": "안성진",
      "photoUrl": "https://lh3.googleusercontent.com/a-/AOh14GiCjgkN_MvtrSUHRuFvstrWm6fhi5cf7CKd2UHYAw=s64",
      "userId": "00266029492778998652"
     },
     "user_tz": -540
    },
    "id": "4vQ_PEk0OVTN",
    "outputId": "da775f36-0206-4f07-b777-9d2a195fea24"
   }
  },
  {
   "cell_type": "markdown",
   "source": [
    "구축된 데이터를 학습용, 검증용, 시험용 데이터로 분리하겠습니다. 8:1:1 비율로 데이터를 분리하겠습니다. 327개의 80%는 약 261이므로 처음 261개 데이터를 학습용으로, 그 후 33개의 데이터를 검증용으로, 그리고 마지막 33개의 데이터를 시험용으로 사용하겠습니다."
   ],
   "metadata": {
    "id": "4erMbiGaBBep"
   }
  },
  {
   "cell_type": "code",
   "execution_count": 5,
   "source": [
    "train_size = int(327 * 0.8)\r\n",
    "print(train_size)"
   ],
   "outputs": [
    {
     "output_type": "stream",
     "name": "stdout",
     "text": [
      "261\n"
     ]
    }
   ],
   "metadata": {
    "colab": {
     "base_uri": "https://localhost:8080/"
    },
    "executionInfo": {
     "elapsed": 1766,
     "status": "ok",
     "timestamp": 1608432122366,
     "user": {
      "displayName": "안성진",
      "photoUrl": "https://lh3.googleusercontent.com/a-/AOh14GiCjgkN_MvtrSUHRuFvstrWm6fhi5cf7CKd2UHYAw=s64",
      "userId": "00266029492778998652"
     },
     "user_tz": -540
    },
    "id": "JqJVumBC8409",
    "outputId": "1c952458-d720-4253-a5eb-9bd3c8da7925"
   }
  },
  {
   "cell_type": "code",
   "execution_count": 6,
   "source": [
    "X_train, y_train = X[:train_size], y[:train_size]\r\n",
    "X_val, y_val = X[train_size:train_size+33], y[train_size:train_size+33]\r\n",
    "X_test, y_test = X[train_size+33:], y[train_size+33:]"
   ],
   "outputs": [],
   "metadata": {
    "id": "_9HpHIR-Oh2T"
   }
  },
  {
   "cell_type": "code",
   "execution_count": 7,
   "source": [
    "print(X_train.shape, X_val.shape, X_test.shape)\r\n",
    "print(y_train.shape, y_val.shape, y_test.shape)"
   ],
   "outputs": [
    {
     "output_type": "stream",
     "name": "stdout",
     "text": [
      "(261, 5, 1) (33, 5, 1) (33, 5, 1)\n",
      "(261, 1) (33, 1) (33, 1)\n"
     ]
    }
   ],
   "metadata": {
    "colab": {
     "base_uri": "https://localhost:8080/"
    },
    "executionInfo": {
     "elapsed": 1745,
     "status": "ok",
     "timestamp": 1608432122368,
     "user": {
      "displayName": "안성진",
      "photoUrl": "https://lh3.googleusercontent.com/a-/AOh14GiCjgkN_MvtrSUHRuFvstrWm6fhi5cf7CKd2UHYAw=s64",
      "userId": "00266029492778998652"
     },
     "user_tz": -540
    },
    "id": "8EeX5aOoOa0l",
    "outputId": "904a97c3-5256-4468-ad28-5a67ce708294"
   }
  },
  {
   "cell_type": "markdown",
   "source": [
    "## 3.2 데이터 스케일링"
   ],
   "metadata": {
    "id": "MQ05Fk12jke3"
   }
  },
  {
   "cell_type": "markdown",
   "source": [
    "이번 절에서는 데이터 스케일링을 실시하겠습니다. 데이터의 범위를 0과 1사이로 변환 시키는 MinMax scaling을 실시하겠습니다. MinMax scaling은 데이터 집합의 최소값과 최대값을 구한 뒤 아래 수식을 활용해 적용합니다. \n"
   ],
   "metadata": {
    "id": "tdLKCYi3CI1i"
   }
  },
  {
   "cell_type": "markdown",
   "source": [
    ">$x_{scaled} = \\displaystyle\\frac{x - x_{min}}{x_{max} - x_{min}}$"
   ],
   "metadata": {
    "id": "dYhCqFRbCuUd"
   }
  },
  {
   "cell_type": "markdown",
   "source": [
    "스케일링 시 주의할 점은 훈련용 데이터의 통계량을 활용해 훈련용, 검증용, 시험용 데이터셋을 스케일링 해야 합니다. 시험용 데이터의 정보는 모델 학습시 입력되면 안되므로 훈련용 데이터의 통계량을 활용해 훈련용 데이터를 스케일링 합니다. 훈련용 데이터의 통계값으로 스케일링 된 데이터로 모델을 학습했기 때문에 추후 모델 성능 평가를 위해 입력되는 시험용 데이터에도 훈련용 데이터의 통계량으로 스케일링 합니다. 마찬가지로 검증용 데이터도 시험용 데이터가 겪게 되는 전처리 과정을 똑같이 적용해줘야 하기 때문에 훈련용 데이터의 통계량으로 스케일링 합니다.  \n",
    "\n",
    "MinMax scaling을 적용하기 위해 `X_train` 데이터의 최소값과 최대값을 구하겠습니다."
   ],
   "metadata": {
    "id": "RGA3sPDvCv1A"
   }
  },
  {
   "cell_type": "code",
   "execution_count": 8,
   "source": [
    "MIN = X_train.min()\r\n",
    "MAX = X_train.max()\r\n",
    "print(MIN, MAX)"
   ],
   "outputs": [
    {
     "output_type": "stream",
     "name": "stdout",
     "text": [
      "0 851\n"
     ]
    }
   ],
   "metadata": {
    "colab": {
     "base_uri": "https://localhost:8080/"
    },
    "executionInfo": {
     "elapsed": 1729,
     "status": "ok",
     "timestamp": 1608432122369,
     "user": {
      "displayName": "안성진",
      "photoUrl": "https://lh3.googleusercontent.com/a-/AOh14GiCjgkN_MvtrSUHRuFvstrWm6fhi5cf7CKd2UHYAw=s64",
      "userId": "00266029492778998652"
     },
     "user_tz": -540
    },
    "id": "Qmh0K8N4Glvb",
    "outputId": "421775e8-0a4d-4ff3-8357-527fe5c0c080"
   }
  },
  {
   "cell_type": "markdown",
   "source": [
    "최소값이 0이고 최대값은 851입니다. 다음으로는 MinMax scaling 함수를 정의하도록 하겠습니다. "
   ],
   "metadata": {
    "id": "qrD05cTgHgIS"
   }
  },
  {
   "cell_type": "code",
   "execution_count": 9,
   "source": [
    "def MinMaxScale(array, min, max):\r\n",
    "\r\n",
    "    return (array - min) / (max - min)"
   ],
   "outputs": [],
   "metadata": {
    "id": "oGdcy31yHrla"
   }
  },
  {
   "cell_type": "markdown",
   "source": [
    "`MinMaxScale`함수를 활용해 스케일링을 진행하겠습니다"
   ],
   "metadata": {
    "id": "OzYEOKK7Hw_R"
   }
  },
  {
   "cell_type": "code",
   "execution_count": 10,
   "source": [
    "X_train = MinMaxScale(X_train, MIN, MAX)\r\n",
    "y_train = MinMaxScale(y_train, MIN, MAX)\r\n",
    "X_val = MinMaxScale(X_val, MIN, MAX)\r\n",
    "y_val = MinMaxScale(y_val, MIN, MAX)\r\n",
    "X_test = MinMaxScale(X_test, MIN, MAX)\r\n",
    "y_test = MinMaxScale(y_test, MIN, MAX)"
   ],
   "outputs": [],
   "metadata": {
    "id": "FhJo_3FQH2HE"
   }
  },
  {
   "cell_type": "markdown",
   "source": [
    "다음으로는 PyTorch 모델에 입력되기 위해 `np.array` 데이터 타입를 `torch.Tensor` 타입으로 변환해주겠습니다. 먼저 데이터 타입 변환하는 함수를 정의하겠습니다. "
   ],
   "metadata": {
    "id": "QhDGDK-cIJOd"
   }
  },
  {
   "cell_type": "code",
   "execution_count": 11,
   "source": [
    "import torch\r\n",
    "\r\n",
    "def make_Tensor(array):\r\n",
    "    return torch.from_numpy(array).float()"
   ],
   "outputs": [],
   "metadata": {
    "id": "G1bRuXBDIIdZ"
   }
  },
  {
   "cell_type": "markdown",
   "source": [
    "`make_Tensor`함수를 활용해 데이터 타입 변환을 진행하겠습니다"
   ],
   "metadata": {
    "id": "zMRYCpW6IeM_"
   }
  },
  {
   "cell_type": "code",
   "execution_count": 12,
   "source": [
    "X_train = make_Tensor(X_train)\r\n",
    "y_train = make_Tensor(y_train)\r\n",
    "X_val = make_Tensor(X_val)\r\n",
    "y_val = make_Tensor(y_val)\r\n",
    "X_test = make_Tensor(X_test)\r\n",
    "y_test = make_Tensor(y_test)"
   ],
   "outputs": [],
   "metadata": {
    "id": "rxXjlAetInNg"
   }
  },
  {
   "cell_type": "markdown",
   "source": [
    "지금까지 시계열 데이터를 지도학습용 데이터로 변환하는 방법과 데이터 스케일링 하는 방법을 확인해봤습니다. 다음 장에서는 구축된 데이터를 활용해 코로나 확진자 예측 모델을 구축해보겠습니다. "
   ],
   "metadata": {
    "id": "07vuEYiQJ08-"
   }
  }
 ],
 "metadata": {
  "colab": {
   "collapsed_sections": [],
   "name": "Ch3. 데이터 전처리.ipynb",
   "provenance": []
  },
  "kernelspec": {
   "name": "python3",
   "display_name": "Python 3.9.6 64-bit"
  },
  "language_info": {
   "codemirror_mode": {
    "name": "ipython",
    "version": 3
   },
   "file_extension": ".py",
   "mimetype": "text/x-python",
   "name": "python",
   "nbconvert_exporter": "python",
   "pygments_lexer": "ipython3",
   "version": "3.9.6"
  },
  "interpreter": {
   "hash": "91fa4ce6aae8c6710e24d087068f91dd0bd45b1fb43fdf6e02b1c3fbf71d5aa7"
  }
 },
 "nbformat": 4,
 "nbformat_minor": 4
}