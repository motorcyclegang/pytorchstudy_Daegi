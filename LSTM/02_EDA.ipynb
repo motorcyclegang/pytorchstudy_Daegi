{
 "cells": [
  {
   "cell_type": "markdown",
   "source": [
    "# 2. 데이터 탐색"
   ],
   "metadata": {
    "id": "e1iDm2EDnzLI"
   }
  },
  {
   "cell_type": "markdown",
   "source": [
    "\n",
    "이전 장에서 시계열 분석에 활용 가능한 딥러닝 모델 구조와 모델 평가지표에 대해 알아보았습니다. 본격적으로 시계열 데이터를 사용하여 분석을 해보기 앞서 2장에서는 분석에 사용될 데이터셋에 대한 탐색과 시각화를 해보겠습니다.\n",
    "\n",
    "시계열 예측에 사용할 데이터는 코로나 확진자 데이터입니다. 데이터셋은 [COVID-19 Data Repository by the Center for Systems Science and Engineering (CSSE) at Johns Hopkins University](https://github.com/CSSEGISandData/COVID-19)와 [Kaggle: Novel Corona Virus 2019 Dataset\n",
    "](https://www.kaggle.com/sudalairajkumar/novel-corona-virus-2019-dataset?select=covid_19_data.csv)에서 확보했습니다. \n",
    "\n",
    "Johns Hopkins 대학의 저장소에는 매일 국가별 확진자 현황이 업데이트 되고 있으며, 이를 일자별 레포트 형태로 제공하고 있습니다. 일자별 레포트 양식을 변형해서 가공한 전체 기간의 레포트도 저장소에서 제공합니다. 또한 일자별 레포트 양식을 보존한 상태로 전체 데이터를 합한 데이터를 Kaggle에서 제공하고 있습니다. \n",
    "\n",
    "2.1절에서 해당 데이터를 다운받고 어떤 변수들로 이루어져 있는지 알아보겠습니다. 그리고 2.2절에서 전세계적으로 유행하고 있는 코로나인만큼 전세계 확진자로부터 추세를 알아보고 2.3절에서 대한민국 확진자를 더 자세하게 탐색해보도록 하겠습니다."
   ],
   "metadata": {
    "id": "DL1voAgwLXnE"
   }
  },
  {
   "cell_type": "markdown",
   "source": [
    "## 2.1 데이터 다운로드"
   ],
   "metadata": {
    "id": "teqR-xYRn00X"
   }
  },
  {
   "cell_type": "markdown",
   "source": [
    "\n",
    "먼저 코로나 확진자 데이터셋을 내려받도록 하겠습니다. 가짜연구소에서 제공하는 데이터 로더 함수를 사용하여 쉽게 받아볼 수 있습니다.\n",
    "\n",
    "`git clone` 명령어를 사용하여 Tutorial-Book-Utils 저장소를 Colab 환경에 다운로드 합니다. \\"
   ],
   "metadata": {
    "id": "J0gqphX0LtFs"
   }
  },
  {
   "cell_type": "code",
   "execution_count": 23,
   "source": [
    "!git clone https://github.com/Pseudo-Lab/Tutorial-Book-Utils"
   ],
   "outputs": [
    {
     "output_type": "stream",
     "name": "stderr",
     "text": [
      "fatal: destination path 'Tutorial-Book-Utils' already exists and is not an empty directory.\n"
     ]
    }
   ],
   "metadata": {
    "colab": {
     "base_uri": "https://localhost:8080/"
    },
    "executionInfo": {
     "elapsed": 1435,
     "status": "ok",
     "timestamp": 1608537115457,
     "user": {
      "displayName": "강민지",
      "photoUrl": "",
      "userId": "07314969867967712660"
     },
     "user_tz": -540
    },
    "id": "6CwUqUKzf7gM",
    "outputId": "27d90f7a-e0af-4f4e-88bb-632950a06631"
   }
  },
  {
   "cell_type": "markdown",
   "source": [
    "![dataset example](https://github.com/Pseudo-Lab/Tutorial-Book/blob/master/book/pics/TS-ch2img01.PNG?raw=true)"
   ],
   "metadata": {
    "id": "yyRKAIkjfvZu"
   }
  },
  {
   "cell_type": "markdown",
   "source": [
    "- 그림 2-1 Tutorial-Book-Utils 저장소 폴더 경로"
   ],
   "metadata": {
    "id": "Em8x3nRCib_t"
   }
  },
  {
   "cell_type": "markdown",
   "source": [
    "그림 2-1과 같이 저장소 내의 파일을 모두 다운받고 그 중에 `PL_data_loader.py` 파일이 위치한 것을 알 수 있습니다. 해당 파일에는 구글 드라이브의 데이터셋을 다운로드 하는 함수가 저장되어 있습니다. `--data` 파라미터에 `COVIDTimeSeries`을 입력하면 모델 구축에 활용할 코로나 확진자 수 데이터를 받을 수 있습니다.\n",
    "\n"
   ],
   "metadata": {
    "id": "7gTGGZo2jfT7"
   }
  },
  {
   "cell_type": "code",
   "execution_count": 24,
   "source": [
    "!python Tutorial-Book-Utils/PL_data_loader.py --data COVIDTimeSeries"
   ],
   "outputs": [
    {
     "output_type": "stream",
     "name": "stdout",
     "text": [
      "COVIDTimeSeries.zip is done!\n"
     ]
    }
   ],
   "metadata": {
    "colab": {
     "base_uri": "https://localhost:8080/"
    },
    "executionInfo": {
     "elapsed": 3286,
     "status": "ok",
     "timestamp": 1608537162776,
     "user": {
      "displayName": "강민지",
      "photoUrl": "",
      "userId": "07314969867967712660"
     },
     "user_tz": -540
    },
    "id": "IZDpoR0Bjczp",
    "outputId": "5812346f-0d0b-4d59-b850-75360c2029c8"
   }
  },
  {
   "cell_type": "code",
   "execution_count": 25,
   "source": [
    "import pandas as pd\r\n",
    "\r\n",
    "all = pd.read_csv('covid_19_data.csv')\r\n",
    "confirmed = pd.read_csv('time_series_covid19_confirmed_global.csv')"
   ],
   "outputs": [],
   "metadata": {
    "id": "lB4B8SpmkVdR"
   }
  },
  {
   "cell_type": "markdown",
   "source": [
    "`all`는 전세계의 일별 확진자, 사망자, 완치자에 대한 데이터입니다. `ObservationDate`는 발생 날짜, `Province/State`, `Country/Region`는 발생 지역과 국가, `Confirmed`는 확진자수, `Deaths`는 사망자수,\t그리고 `Recovered`는 완치자수를 의미합니다. 해당 데이터프레임은 다음과 같습니다."
   ],
   "metadata": {
    "id": "QqY1aH-ebbLa"
   }
  },
  {
   "cell_type": "code",
   "execution_count": 26,
   "source": [
    "all"
   ],
   "outputs": [
    {
     "output_type": "execute_result",
     "data": {
      "text/html": [
       "<div>\n",
       "<style scoped>\n",
       "    .dataframe tbody tr th:only-of-type {\n",
       "        vertical-align: middle;\n",
       "    }\n",
       "\n",
       "    .dataframe tbody tr th {\n",
       "        vertical-align: top;\n",
       "    }\n",
       "\n",
       "    .dataframe thead th {\n",
       "        text-align: right;\n",
       "    }\n",
       "</style>\n",
       "<table border=\"1\" class=\"dataframe\">\n",
       "  <thead>\n",
       "    <tr style=\"text-align: right;\">\n",
       "      <th></th>\n",
       "      <th>SNo</th>\n",
       "      <th>ObservationDate</th>\n",
       "      <th>Province/State</th>\n",
       "      <th>Country/Region</th>\n",
       "      <th>Last Update</th>\n",
       "      <th>Confirmed</th>\n",
       "      <th>Deaths</th>\n",
       "      <th>Recovered</th>\n",
       "    </tr>\n",
       "  </thead>\n",
       "  <tbody>\n",
       "    <tr>\n",
       "      <th>0</th>\n",
       "      <td>1</td>\n",
       "      <td>01/22/2020</td>\n",
       "      <td>Anhui</td>\n",
       "      <td>Mainland China</td>\n",
       "      <td>1/22/2020 17:00</td>\n",
       "      <td>1.0</td>\n",
       "      <td>0.0</td>\n",
       "      <td>0.0</td>\n",
       "    </tr>\n",
       "    <tr>\n",
       "      <th>1</th>\n",
       "      <td>2</td>\n",
       "      <td>01/22/2020</td>\n",
       "      <td>Beijing</td>\n",
       "      <td>Mainland China</td>\n",
       "      <td>1/22/2020 17:00</td>\n",
       "      <td>14.0</td>\n",
       "      <td>0.0</td>\n",
       "      <td>0.0</td>\n",
       "    </tr>\n",
       "    <tr>\n",
       "      <th>2</th>\n",
       "      <td>3</td>\n",
       "      <td>01/22/2020</td>\n",
       "      <td>Chongqing</td>\n",
       "      <td>Mainland China</td>\n",
       "      <td>1/22/2020 17:00</td>\n",
       "      <td>6.0</td>\n",
       "      <td>0.0</td>\n",
       "      <td>0.0</td>\n",
       "    </tr>\n",
       "    <tr>\n",
       "      <th>3</th>\n",
       "      <td>4</td>\n",
       "      <td>01/22/2020</td>\n",
       "      <td>Fujian</td>\n",
       "      <td>Mainland China</td>\n",
       "      <td>1/22/2020 17:00</td>\n",
       "      <td>1.0</td>\n",
       "      <td>0.0</td>\n",
       "      <td>0.0</td>\n",
       "    </tr>\n",
       "    <tr>\n",
       "      <th>4</th>\n",
       "      <td>5</td>\n",
       "      <td>01/22/2020</td>\n",
       "      <td>Gansu</td>\n",
       "      <td>Mainland China</td>\n",
       "      <td>1/22/2020 17:00</td>\n",
       "      <td>0.0</td>\n",
       "      <td>0.0</td>\n",
       "      <td>0.0</td>\n",
       "    </tr>\n",
       "    <tr>\n",
       "      <th>...</th>\n",
       "      <td>...</td>\n",
       "      <td>...</td>\n",
       "      <td>...</td>\n",
       "      <td>...</td>\n",
       "      <td>...</td>\n",
       "      <td>...</td>\n",
       "      <td>...</td>\n",
       "      <td>...</td>\n",
       "    </tr>\n",
       "    <tr>\n",
       "      <th>172475</th>\n",
       "      <td>172476</td>\n",
       "      <td>12/06/2020</td>\n",
       "      <td>Zaporizhia Oblast</td>\n",
       "      <td>Ukraine</td>\n",
       "      <td>2020-12-07 05:26:14</td>\n",
       "      <td>36539.0</td>\n",
       "      <td>337.0</td>\n",
       "      <td>6556.0</td>\n",
       "    </tr>\n",
       "    <tr>\n",
       "      <th>172476</th>\n",
       "      <td>172477</td>\n",
       "      <td>12/06/2020</td>\n",
       "      <td>Zeeland</td>\n",
       "      <td>Netherlands</td>\n",
       "      <td>2020-12-07 05:26:14</td>\n",
       "      <td>6710.0</td>\n",
       "      <td>104.0</td>\n",
       "      <td>0.0</td>\n",
       "    </tr>\n",
       "    <tr>\n",
       "      <th>172477</th>\n",
       "      <td>172478</td>\n",
       "      <td>12/06/2020</td>\n",
       "      <td>Zhejiang</td>\n",
       "      <td>Mainland China</td>\n",
       "      <td>2020-12-07 05:26:14</td>\n",
       "      <td>1295.0</td>\n",
       "      <td>1.0</td>\n",
       "      <td>1288.0</td>\n",
       "    </tr>\n",
       "    <tr>\n",
       "      <th>172478</th>\n",
       "      <td>172479</td>\n",
       "      <td>12/06/2020</td>\n",
       "      <td>Zhytomyr Oblast</td>\n",
       "      <td>Ukraine</td>\n",
       "      <td>2020-12-07 05:26:14</td>\n",
       "      <td>31967.0</td>\n",
       "      <td>531.0</td>\n",
       "      <td>22263.0</td>\n",
       "    </tr>\n",
       "    <tr>\n",
       "      <th>172479</th>\n",
       "      <td>172480</td>\n",
       "      <td>12/06/2020</td>\n",
       "      <td>Zuid-Holland</td>\n",
       "      <td>Netherlands</td>\n",
       "      <td>2020-12-07 05:26:14</td>\n",
       "      <td>154813.0</td>\n",
       "      <td>2414.0</td>\n",
       "      <td>0.0</td>\n",
       "    </tr>\n",
       "  </tbody>\n",
       "</table>\n",
       "<p>172480 rows × 8 columns</p>\n",
       "</div>"
      ],
      "text/plain": [
       "           SNo ObservationDate     Province/State  Country/Region  \\\n",
       "0            1      01/22/2020              Anhui  Mainland China   \n",
       "1            2      01/22/2020            Beijing  Mainland China   \n",
       "2            3      01/22/2020          Chongqing  Mainland China   \n",
       "3            4      01/22/2020             Fujian  Mainland China   \n",
       "4            5      01/22/2020              Gansu  Mainland China   \n",
       "...        ...             ...                ...             ...   \n",
       "172475  172476      12/06/2020  Zaporizhia Oblast         Ukraine   \n",
       "172476  172477      12/06/2020            Zeeland     Netherlands   \n",
       "172477  172478      12/06/2020           Zhejiang  Mainland China   \n",
       "172478  172479      12/06/2020    Zhytomyr Oblast         Ukraine   \n",
       "172479  172480      12/06/2020       Zuid-Holland     Netherlands   \n",
       "\n",
       "                Last Update  Confirmed  Deaths  Recovered  \n",
       "0           1/22/2020 17:00        1.0     0.0        0.0  \n",
       "1           1/22/2020 17:00       14.0     0.0        0.0  \n",
       "2           1/22/2020 17:00        6.0     0.0        0.0  \n",
       "3           1/22/2020 17:00        1.0     0.0        0.0  \n",
       "4           1/22/2020 17:00        0.0     0.0        0.0  \n",
       "...                     ...        ...     ...        ...  \n",
       "172475  2020-12-07 05:26:14    36539.0   337.0     6556.0  \n",
       "172476  2020-12-07 05:26:14     6710.0   104.0        0.0  \n",
       "172477  2020-12-07 05:26:14     1295.0     1.0     1288.0  \n",
       "172478  2020-12-07 05:26:14    31967.0   531.0    22263.0  \n",
       "172479  2020-12-07 05:26:14   154813.0  2414.0        0.0  \n",
       "\n",
       "[172480 rows x 8 columns]"
      ]
     },
     "metadata": {},
     "execution_count": 26
    }
   ],
   "metadata": {
    "colab": {
     "base_uri": "https://localhost:8080/",
     "height": 704
    },
    "executionInfo": {
     "elapsed": 682,
     "status": "ok",
     "timestamp": 1608391244114,
     "user": {
      "displayName": "안성진",
      "photoUrl": "https://lh3.googleusercontent.com/a-/AOh14GiCjgkN_MvtrSUHRuFvstrWm6fhi5cf7CKd2UHYAw=s64",
      "userId": "00266029492778998652"
     },
     "user_tz": -540
    },
    "id": "JAG8ycNdRX0f",
    "outputId": "16bdb47b-eb47-4a11-8c71-a5adc08d683e"
   }
  },
  {
   "cell_type": "markdown",
   "source": [
    "`confirmed`는 국가별 확진자 수에 대한 시퀀스(sequence) 데이터입니다. `Country/Region`, `Province/State`는 발생 지역과 국가, `Long`,\t`Lat`는 경도와 위도, 그리고 `MM/DD/YYYY`는 일자별 확진자 수를 의미합니다. 해당 데이터프레임은 다음과 같습니다."
   ],
   "metadata": {
    "id": "NRgWr-sjcOvR"
   }
  },
  {
   "cell_type": "code",
   "execution_count": 27,
   "source": [
    "confirmed"
   ],
   "outputs": [
    {
     "output_type": "execute_result",
     "data": {
      "text/html": [
       "<div>\n",
       "<style scoped>\n",
       "    .dataframe tbody tr th:only-of-type {\n",
       "        vertical-align: middle;\n",
       "    }\n",
       "\n",
       "    .dataframe tbody tr th {\n",
       "        vertical-align: top;\n",
       "    }\n",
       "\n",
       "    .dataframe thead th {\n",
       "        text-align: right;\n",
       "    }\n",
       "</style>\n",
       "<table border=\"1\" class=\"dataframe\">\n",
       "  <thead>\n",
       "    <tr style=\"text-align: right;\">\n",
       "      <th></th>\n",
       "      <th>Province/State</th>\n",
       "      <th>Country/Region</th>\n",
       "      <th>Lat</th>\n",
       "      <th>Long</th>\n",
       "      <th>1/22/20</th>\n",
       "      <th>1/23/20</th>\n",
       "      <th>1/24/20</th>\n",
       "      <th>1/25/20</th>\n",
       "      <th>1/26/20</th>\n",
       "      <th>1/27/20</th>\n",
       "      <th>...</th>\n",
       "      <th>12/9/20</th>\n",
       "      <th>12/10/20</th>\n",
       "      <th>12/11/20</th>\n",
       "      <th>12/12/20</th>\n",
       "      <th>12/13/20</th>\n",
       "      <th>12/14/20</th>\n",
       "      <th>12/15/20</th>\n",
       "      <th>12/16/20</th>\n",
       "      <th>12/17/20</th>\n",
       "      <th>12/18/20</th>\n",
       "    </tr>\n",
       "  </thead>\n",
       "  <tbody>\n",
       "    <tr>\n",
       "      <th>0</th>\n",
       "      <td>NaN</td>\n",
       "      <td>Afghanistan</td>\n",
       "      <td>33.939110</td>\n",
       "      <td>67.709953</td>\n",
       "      <td>0</td>\n",
       "      <td>0</td>\n",
       "      <td>0</td>\n",
       "      <td>0</td>\n",
       "      <td>0</td>\n",
       "      <td>0</td>\n",
       "      <td>...</td>\n",
       "      <td>47851</td>\n",
       "      <td>48053</td>\n",
       "      <td>48116</td>\n",
       "      <td>48229</td>\n",
       "      <td>48527</td>\n",
       "      <td>48718</td>\n",
       "      <td>48952</td>\n",
       "      <td>49161</td>\n",
       "      <td>49378</td>\n",
       "      <td>49621</td>\n",
       "    </tr>\n",
       "    <tr>\n",
       "      <th>1</th>\n",
       "      <td>NaN</td>\n",
       "      <td>Albania</td>\n",
       "      <td>41.153300</td>\n",
       "      <td>20.168300</td>\n",
       "      <td>0</td>\n",
       "      <td>0</td>\n",
       "      <td>0</td>\n",
       "      <td>0</td>\n",
       "      <td>0</td>\n",
       "      <td>0</td>\n",
       "      <td>...</td>\n",
       "      <td>45188</td>\n",
       "      <td>46061</td>\n",
       "      <td>46863</td>\n",
       "      <td>47742</td>\n",
       "      <td>48530</td>\n",
       "      <td>49191</td>\n",
       "      <td>50000</td>\n",
       "      <td>50637</td>\n",
       "      <td>51424</td>\n",
       "      <td>52004</td>\n",
       "    </tr>\n",
       "    <tr>\n",
       "      <th>2</th>\n",
       "      <td>NaN</td>\n",
       "      <td>Algeria</td>\n",
       "      <td>28.033900</td>\n",
       "      <td>1.659600</td>\n",
       "      <td>0</td>\n",
       "      <td>0</td>\n",
       "      <td>0</td>\n",
       "      <td>0</td>\n",
       "      <td>0</td>\n",
       "      <td>0</td>\n",
       "      <td>...</td>\n",
       "      <td>90014</td>\n",
       "      <td>90579</td>\n",
       "      <td>91121</td>\n",
       "      <td>91638</td>\n",
       "      <td>92102</td>\n",
       "      <td>92597</td>\n",
       "      <td>93065</td>\n",
       "      <td>93507</td>\n",
       "      <td>93933</td>\n",
       "      <td>94371</td>\n",
       "    </tr>\n",
       "    <tr>\n",
       "      <th>3</th>\n",
       "      <td>NaN</td>\n",
       "      <td>Andorra</td>\n",
       "      <td>42.506300</td>\n",
       "      <td>1.521800</td>\n",
       "      <td>0</td>\n",
       "      <td>0</td>\n",
       "      <td>0</td>\n",
       "      <td>0</td>\n",
       "      <td>0</td>\n",
       "      <td>0</td>\n",
       "      <td>...</td>\n",
       "      <td>7162</td>\n",
       "      <td>7190</td>\n",
       "      <td>7236</td>\n",
       "      <td>7288</td>\n",
       "      <td>7338</td>\n",
       "      <td>7382</td>\n",
       "      <td>7382</td>\n",
       "      <td>7446</td>\n",
       "      <td>7466</td>\n",
       "      <td>7519</td>\n",
       "    </tr>\n",
       "    <tr>\n",
       "      <th>4</th>\n",
       "      <td>NaN</td>\n",
       "      <td>Angola</td>\n",
       "      <td>-11.202700</td>\n",
       "      <td>17.873900</td>\n",
       "      <td>0</td>\n",
       "      <td>0</td>\n",
       "      <td>0</td>\n",
       "      <td>0</td>\n",
       "      <td>0</td>\n",
       "      <td>0</td>\n",
       "      <td>...</td>\n",
       "      <td>15804</td>\n",
       "      <td>15925</td>\n",
       "      <td>16061</td>\n",
       "      <td>16161</td>\n",
       "      <td>16188</td>\n",
       "      <td>16277</td>\n",
       "      <td>16362</td>\n",
       "      <td>16407</td>\n",
       "      <td>16484</td>\n",
       "      <td>16562</td>\n",
       "    </tr>\n",
       "    <tr>\n",
       "      <th>...</th>\n",
       "      <td>...</td>\n",
       "      <td>...</td>\n",
       "      <td>...</td>\n",
       "      <td>...</td>\n",
       "      <td>...</td>\n",
       "      <td>...</td>\n",
       "      <td>...</td>\n",
       "      <td>...</td>\n",
       "      <td>...</td>\n",
       "      <td>...</td>\n",
       "      <td>...</td>\n",
       "      <td>...</td>\n",
       "      <td>...</td>\n",
       "      <td>...</td>\n",
       "      <td>...</td>\n",
       "      <td>...</td>\n",
       "      <td>...</td>\n",
       "      <td>...</td>\n",
       "      <td>...</td>\n",
       "      <td>...</td>\n",
       "      <td>...</td>\n",
       "    </tr>\n",
       "    <tr>\n",
       "      <th>266</th>\n",
       "      <td>NaN</td>\n",
       "      <td>Vietnam</td>\n",
       "      <td>14.058324</td>\n",
       "      <td>108.277199</td>\n",
       "      <td>0</td>\n",
       "      <td>2</td>\n",
       "      <td>2</td>\n",
       "      <td>2</td>\n",
       "      <td>2</td>\n",
       "      <td>2</td>\n",
       "      <td>...</td>\n",
       "      <td>1381</td>\n",
       "      <td>1385</td>\n",
       "      <td>1391</td>\n",
       "      <td>1395</td>\n",
       "      <td>1397</td>\n",
       "      <td>1402</td>\n",
       "      <td>1405</td>\n",
       "      <td>1405</td>\n",
       "      <td>1407</td>\n",
       "      <td>1410</td>\n",
       "    </tr>\n",
       "    <tr>\n",
       "      <th>267</th>\n",
       "      <td>NaN</td>\n",
       "      <td>West Bank and Gaza</td>\n",
       "      <td>31.952200</td>\n",
       "      <td>35.233200</td>\n",
       "      <td>0</td>\n",
       "      <td>0</td>\n",
       "      <td>0</td>\n",
       "      <td>0</td>\n",
       "      <td>0</td>\n",
       "      <td>0</td>\n",
       "      <td>...</td>\n",
       "      <td>102992</td>\n",
       "      <td>104879</td>\n",
       "      <td>106622</td>\n",
       "      <td>108099</td>\n",
       "      <td>109738</td>\n",
       "      <td>111102</td>\n",
       "      <td>113409</td>\n",
       "      <td>115606</td>\n",
       "      <td>117755</td>\n",
       "      <td>119612</td>\n",
       "    </tr>\n",
       "    <tr>\n",
       "      <th>268</th>\n",
       "      <td>NaN</td>\n",
       "      <td>Yemen</td>\n",
       "      <td>15.552727</td>\n",
       "      <td>48.516388</td>\n",
       "      <td>0</td>\n",
       "      <td>0</td>\n",
       "      <td>0</td>\n",
       "      <td>0</td>\n",
       "      <td>0</td>\n",
       "      <td>0</td>\n",
       "      <td>...</td>\n",
       "      <td>2079</td>\n",
       "      <td>2081</td>\n",
       "      <td>2082</td>\n",
       "      <td>2083</td>\n",
       "      <td>2083</td>\n",
       "      <td>2084</td>\n",
       "      <td>2085</td>\n",
       "      <td>2085</td>\n",
       "      <td>2087</td>\n",
       "      <td>2087</td>\n",
       "    </tr>\n",
       "    <tr>\n",
       "      <th>269</th>\n",
       "      <td>NaN</td>\n",
       "      <td>Zambia</td>\n",
       "      <td>-13.133897</td>\n",
       "      <td>27.849332</td>\n",
       "      <td>0</td>\n",
       "      <td>0</td>\n",
       "      <td>0</td>\n",
       "      <td>0</td>\n",
       "      <td>0</td>\n",
       "      <td>0</td>\n",
       "      <td>...</td>\n",
       "      <td>18062</td>\n",
       "      <td>18091</td>\n",
       "      <td>18161</td>\n",
       "      <td>18217</td>\n",
       "      <td>18274</td>\n",
       "      <td>18322</td>\n",
       "      <td>18428</td>\n",
       "      <td>18456</td>\n",
       "      <td>18504</td>\n",
       "      <td>18575</td>\n",
       "    </tr>\n",
       "    <tr>\n",
       "      <th>270</th>\n",
       "      <td>NaN</td>\n",
       "      <td>Zimbabwe</td>\n",
       "      <td>-19.015438</td>\n",
       "      <td>29.154857</td>\n",
       "      <td>0</td>\n",
       "      <td>0</td>\n",
       "      <td>0</td>\n",
       "      <td>0</td>\n",
       "      <td>0</td>\n",
       "      <td>0</td>\n",
       "      <td>...</td>\n",
       "      <td>11007</td>\n",
       "      <td>11081</td>\n",
       "      <td>11162</td>\n",
       "      <td>11219</td>\n",
       "      <td>11246</td>\n",
       "      <td>11358</td>\n",
       "      <td>11522</td>\n",
       "      <td>11749</td>\n",
       "      <td>11866</td>\n",
       "      <td>12047</td>\n",
       "    </tr>\n",
       "  </tbody>\n",
       "</table>\n",
       "<p>271 rows × 336 columns</p>\n",
       "</div>"
      ],
      "text/plain": [
       "    Province/State      Country/Region        Lat        Long  1/22/20  \\\n",
       "0              NaN         Afghanistan  33.939110   67.709953        0   \n",
       "1              NaN             Albania  41.153300   20.168300        0   \n",
       "2              NaN             Algeria  28.033900    1.659600        0   \n",
       "3              NaN             Andorra  42.506300    1.521800        0   \n",
       "4              NaN              Angola -11.202700   17.873900        0   \n",
       "..             ...                 ...        ...         ...      ...   \n",
       "266            NaN             Vietnam  14.058324  108.277199        0   \n",
       "267            NaN  West Bank and Gaza  31.952200   35.233200        0   \n",
       "268            NaN               Yemen  15.552727   48.516388        0   \n",
       "269            NaN              Zambia -13.133897   27.849332        0   \n",
       "270            NaN            Zimbabwe -19.015438   29.154857        0   \n",
       "\n",
       "     1/23/20  1/24/20  1/25/20  1/26/20  1/27/20  ...  12/9/20  12/10/20  \\\n",
       "0          0        0        0        0        0  ...    47851     48053   \n",
       "1          0        0        0        0        0  ...    45188     46061   \n",
       "2          0        0        0        0        0  ...    90014     90579   \n",
       "3          0        0        0        0        0  ...     7162      7190   \n",
       "4          0        0        0        0        0  ...    15804     15925   \n",
       "..       ...      ...      ...      ...      ...  ...      ...       ...   \n",
       "266        2        2        2        2        2  ...     1381      1385   \n",
       "267        0        0        0        0        0  ...   102992    104879   \n",
       "268        0        0        0        0        0  ...     2079      2081   \n",
       "269        0        0        0        0        0  ...    18062     18091   \n",
       "270        0        0        0        0        0  ...    11007     11081   \n",
       "\n",
       "     12/11/20  12/12/20  12/13/20  12/14/20  12/15/20  12/16/20  12/17/20  \\\n",
       "0       48116     48229     48527     48718     48952     49161     49378   \n",
       "1       46863     47742     48530     49191     50000     50637     51424   \n",
       "2       91121     91638     92102     92597     93065     93507     93933   \n",
       "3        7236      7288      7338      7382      7382      7446      7466   \n",
       "4       16061     16161     16188     16277     16362     16407     16484   \n",
       "..        ...       ...       ...       ...       ...       ...       ...   \n",
       "266      1391      1395      1397      1402      1405      1405      1407   \n",
       "267    106622    108099    109738    111102    113409    115606    117755   \n",
       "268      2082      2083      2083      2084      2085      2085      2087   \n",
       "269     18161     18217     18274     18322     18428     18456     18504   \n",
       "270     11162     11219     11246     11358     11522     11749     11866   \n",
       "\n",
       "     12/18/20  \n",
       "0       49621  \n",
       "1       52004  \n",
       "2       94371  \n",
       "3        7519  \n",
       "4       16562  \n",
       "..        ...  \n",
       "266      1410  \n",
       "267    119612  \n",
       "268      2087  \n",
       "269     18575  \n",
       "270     12047  \n",
       "\n",
       "[271 rows x 336 columns]"
      ]
     },
     "metadata": {},
     "execution_count": 27
    }
   ],
   "metadata": {
    "colab": {
     "base_uri": "https://localhost:8080/",
     "height": 445
    },
    "executionInfo": {
     "elapsed": 674,
     "status": "ok",
     "timestamp": 1608391855978,
     "user": {
      "displayName": "안성진",
      "photoUrl": "https://lh3.googleusercontent.com/a-/AOh14GiCjgkN_MvtrSUHRuFvstrWm6fhi5cf7CKd2UHYAw=s64",
      "userId": "00266029492778998652"
     },
     "user_tz": -540
    },
    "id": "s_dWAI3DRY6U",
    "outputId": "a7cb546c-6edf-4056-b60f-9051dfe0b8ef"
   }
  },
  {
   "cell_type": "markdown",
   "source": [
    "## 2.2 전세계 데이터 EDA"
   ],
   "metadata": {
    "id": "9HNmEfcwn2zN"
   }
  },
  {
   "cell_type": "markdown",
   "source": [
    "`all`을 활용해 전세계 코로나 확진자 수를 시각화 해보도록 하겠습니다. 이 데이터프레임에는 위치를 나타내는 변수가 `Province/State`(지역)와 `Country/Region`(국가) 두 가지로 존재합니다. 그 중 국가별 확진자 수를 시각화 하기 위해서 `Country/Region` 기준으로 해당 국가의 모든 확진자 수를 더해줘야 합니다. 아래 코드를 통해 구현해보겠습니다. \n",
    "\n",
    "\n",
    "\n"
   ],
   "metadata": {
    "id": "12TeR1D0L-6b"
   }
  },
  {
   "cell_type": "code",
   "execution_count": 28,
   "source": [
    "group = all.groupby(['ObservationDate', 'Country/Region'])['Confirmed'].sum()\r\n",
    "group = group.reset_index()\r\n",
    "group.head()"
   ],
   "outputs": [
    {
     "output_type": "execute_result",
     "data": {
      "text/html": [
       "<div>\n",
       "<style scoped>\n",
       "    .dataframe tbody tr th:only-of-type {\n",
       "        vertical-align: middle;\n",
       "    }\n",
       "\n",
       "    .dataframe tbody tr th {\n",
       "        vertical-align: top;\n",
       "    }\n",
       "\n",
       "    .dataframe thead th {\n",
       "        text-align: right;\n",
       "    }\n",
       "</style>\n",
       "<table border=\"1\" class=\"dataframe\">\n",
       "  <thead>\n",
       "    <tr style=\"text-align: right;\">\n",
       "      <th></th>\n",
       "      <th>ObservationDate</th>\n",
       "      <th>Country/Region</th>\n",
       "      <th>Confirmed</th>\n",
       "    </tr>\n",
       "  </thead>\n",
       "  <tbody>\n",
       "    <tr>\n",
       "      <th>0</th>\n",
       "      <td>01/22/2020</td>\n",
       "      <td>Hong Kong</td>\n",
       "      <td>0.0</td>\n",
       "    </tr>\n",
       "    <tr>\n",
       "      <th>1</th>\n",
       "      <td>01/22/2020</td>\n",
       "      <td>Japan</td>\n",
       "      <td>2.0</td>\n",
       "    </tr>\n",
       "    <tr>\n",
       "      <th>2</th>\n",
       "      <td>01/22/2020</td>\n",
       "      <td>Macau</td>\n",
       "      <td>1.0</td>\n",
       "    </tr>\n",
       "    <tr>\n",
       "      <th>3</th>\n",
       "      <td>01/22/2020</td>\n",
       "      <td>Mainland China</td>\n",
       "      <td>547.0</td>\n",
       "    </tr>\n",
       "    <tr>\n",
       "      <th>4</th>\n",
       "      <td>01/22/2020</td>\n",
       "      <td>South Korea</td>\n",
       "      <td>1.0</td>\n",
       "    </tr>\n",
       "  </tbody>\n",
       "</table>\n",
       "</div>"
      ],
      "text/plain": [
       "  ObservationDate  Country/Region  Confirmed\n",
       "0      01/22/2020       Hong Kong        0.0\n",
       "1      01/22/2020           Japan        2.0\n",
       "2      01/22/2020           Macau        1.0\n",
       "3      01/22/2020  Mainland China      547.0\n",
       "4      01/22/2020     South Korea        1.0"
      ]
     },
     "metadata": {},
     "execution_count": 28
    }
   ],
   "metadata": {
    "colab": {
     "base_uri": "https://localhost:8080/",
     "height": 198
    },
    "executionInfo": {
     "elapsed": 771,
     "status": "ok",
     "timestamp": 1608392168800,
     "user": {
      "displayName": "안성진",
      "photoUrl": "https://lh3.googleusercontent.com/a-/AOh14GiCjgkN_MvtrSUHRuFvstrWm6fhi5cf7CKd2UHYAw=s64",
      "userId": "00266029492778998652"
     },
     "user_tz": -540
    },
    "id": "WBOvEQsUpID5",
    "outputId": "c2d5e2d7-26c4-4e3a-be6c-6e64094eeb73"
   }
  },
  {
   "cell_type": "markdown",
   "source": [
    "## 2.3 대한민국 데이터 EDA"
   ],
   "metadata": {
    "id": "d0KnpFpin40_"
   }
  },
  {
   "cell_type": "markdown",
   "source": [
    "\n",
    "\n",
    "이번에는 `confirmed`에서 대한민국 데이터만 뽑아보겠습니다. 이 데이터는 누적데이터로 해당 날짜까지의 총 확진자수를 의미합니다."
   ],
   "metadata": {
    "id": "DB20FfLXMXfp"
   }
  },
  {
   "cell_type": "code",
   "execution_count": 29,
   "source": [
    "confirmed[confirmed['Country/Region']=='Korea, South']"
   ],
   "outputs": [
    {
     "output_type": "execute_result",
     "data": {
      "text/html": [
       "<div>\n",
       "<style scoped>\n",
       "    .dataframe tbody tr th:only-of-type {\n",
       "        vertical-align: middle;\n",
       "    }\n",
       "\n",
       "    .dataframe tbody tr th {\n",
       "        vertical-align: top;\n",
       "    }\n",
       "\n",
       "    .dataframe thead th {\n",
       "        text-align: right;\n",
       "    }\n",
       "</style>\n",
       "<table border=\"1\" class=\"dataframe\">\n",
       "  <thead>\n",
       "    <tr style=\"text-align: right;\">\n",
       "      <th></th>\n",
       "      <th>Province/State</th>\n",
       "      <th>Country/Region</th>\n",
       "      <th>Lat</th>\n",
       "      <th>Long</th>\n",
       "      <th>1/22/20</th>\n",
       "      <th>1/23/20</th>\n",
       "      <th>1/24/20</th>\n",
       "      <th>1/25/20</th>\n",
       "      <th>1/26/20</th>\n",
       "      <th>1/27/20</th>\n",
       "      <th>...</th>\n",
       "      <th>12/9/20</th>\n",
       "      <th>12/10/20</th>\n",
       "      <th>12/11/20</th>\n",
       "      <th>12/12/20</th>\n",
       "      <th>12/13/20</th>\n",
       "      <th>12/14/20</th>\n",
       "      <th>12/15/20</th>\n",
       "      <th>12/16/20</th>\n",
       "      <th>12/17/20</th>\n",
       "      <th>12/18/20</th>\n",
       "    </tr>\n",
       "  </thead>\n",
       "  <tbody>\n",
       "    <tr>\n",
       "      <th>157</th>\n",
       "      <td>NaN</td>\n",
       "      <td>Korea, South</td>\n",
       "      <td>35.907757</td>\n",
       "      <td>127.766922</td>\n",
       "      <td>1</td>\n",
       "      <td>1</td>\n",
       "      <td>2</td>\n",
       "      <td>2</td>\n",
       "      <td>3</td>\n",
       "      <td>4</td>\n",
       "      <td>...</td>\n",
       "      <td>40098</td>\n",
       "      <td>40786</td>\n",
       "      <td>41736</td>\n",
       "      <td>42766</td>\n",
       "      <td>43484</td>\n",
       "      <td>44364</td>\n",
       "      <td>45442</td>\n",
       "      <td>46453</td>\n",
       "      <td>47515</td>\n",
       "      <td>48570</td>\n",
       "    </tr>\n",
       "  </tbody>\n",
       "</table>\n",
       "<p>1 rows × 336 columns</p>\n",
       "</div>"
      ],
      "text/plain": [
       "    Province/State Country/Region        Lat        Long  1/22/20  1/23/20  \\\n",
       "157            NaN   Korea, South  35.907757  127.766922        1        1   \n",
       "\n",
       "     1/24/20  1/25/20  1/26/20  1/27/20  ...  12/9/20  12/10/20  12/11/20  \\\n",
       "157        2        2        3        4  ...    40098     40786     41736   \n",
       "\n",
       "     12/12/20  12/13/20  12/14/20  12/15/20  12/16/20  12/17/20  12/18/20  \n",
       "157     42766     43484     44364     45442     46453     47515     48570  \n",
       "\n",
       "[1 rows x 336 columns]"
      ]
     },
     "metadata": {},
     "execution_count": 29
    }
   ],
   "metadata": {
    "colab": {
     "base_uri": "https://localhost:8080/",
     "height": 127
    },
    "executionInfo": {
     "elapsed": 755,
     "status": "ok",
     "timestamp": 1608392561473,
     "user": {
      "displayName": "안성진",
      "photoUrl": "https://lh3.googleusercontent.com/a-/AOh14GiCjgkN_MvtrSUHRuFvstrWm6fhi5cf7CKd2UHYAw=s64",
      "userId": "00266029492778998652"
     },
     "user_tz": -540
    },
    "id": "gxrPArm8fUdr",
    "outputId": "cabf864f-e389-4025-ed88-d1744c1cc556"
   }
  },
  {
   "cell_type": "markdown",
   "source": [
    "여기서 지역명, 위경도를 제외한 확진자수에 대한 정보만 남기도록 하겠습니다. 그리고 이후 편의성을 위해 행과 열을 바꾸고(`.T`), 인덱스인 날짜를 str 형식에서 datetime 형식으로 바꿔주었습니다(`to_datetime`)."
   ],
   "metadata": {
    "id": "rwLwYT2Xfgb3"
   }
  },
  {
   "cell_type": "code",
   "execution_count": 30,
   "source": [
    "korea = confirmed[confirmed['Country/Region']=='Korea, South'].iloc[:,4:].T\r\n",
    "korea.index = pd.to_datetime(korea.index)\r\n",
    "korea"
   ],
   "outputs": [
    {
     "output_type": "execute_result",
     "data": {
      "text/html": [
       "<div>\n",
       "<style scoped>\n",
       "    .dataframe tbody tr th:only-of-type {\n",
       "        vertical-align: middle;\n",
       "    }\n",
       "\n",
       "    .dataframe tbody tr th {\n",
       "        vertical-align: top;\n",
       "    }\n",
       "\n",
       "    .dataframe thead th {\n",
       "        text-align: right;\n",
       "    }\n",
       "</style>\n",
       "<table border=\"1\" class=\"dataframe\">\n",
       "  <thead>\n",
       "    <tr style=\"text-align: right;\">\n",
       "      <th></th>\n",
       "      <th>157</th>\n",
       "    </tr>\n",
       "  </thead>\n",
       "  <tbody>\n",
       "    <tr>\n",
       "      <th>2020-01-22</th>\n",
       "      <td>1</td>\n",
       "    </tr>\n",
       "    <tr>\n",
       "      <th>2020-01-23</th>\n",
       "      <td>1</td>\n",
       "    </tr>\n",
       "    <tr>\n",
       "      <th>2020-01-24</th>\n",
       "      <td>2</td>\n",
       "    </tr>\n",
       "    <tr>\n",
       "      <th>2020-01-25</th>\n",
       "      <td>2</td>\n",
       "    </tr>\n",
       "    <tr>\n",
       "      <th>2020-01-26</th>\n",
       "      <td>3</td>\n",
       "    </tr>\n",
       "    <tr>\n",
       "      <th>...</th>\n",
       "      <td>...</td>\n",
       "    </tr>\n",
       "    <tr>\n",
       "      <th>2020-12-14</th>\n",
       "      <td>44364</td>\n",
       "    </tr>\n",
       "    <tr>\n",
       "      <th>2020-12-15</th>\n",
       "      <td>45442</td>\n",
       "    </tr>\n",
       "    <tr>\n",
       "      <th>2020-12-16</th>\n",
       "      <td>46453</td>\n",
       "    </tr>\n",
       "    <tr>\n",
       "      <th>2020-12-17</th>\n",
       "      <td>47515</td>\n",
       "    </tr>\n",
       "    <tr>\n",
       "      <th>2020-12-18</th>\n",
       "      <td>48570</td>\n",
       "    </tr>\n",
       "  </tbody>\n",
       "</table>\n",
       "<p>332 rows × 1 columns</p>\n",
       "</div>"
      ],
      "text/plain": [
       "              157\n",
       "2020-01-22      1\n",
       "2020-01-23      1\n",
       "2020-01-24      2\n",
       "2020-01-25      2\n",
       "2020-01-26      3\n",
       "...           ...\n",
       "2020-12-14  44364\n",
       "2020-12-15  45442\n",
       "2020-12-16  46453\n",
       "2020-12-17  47515\n",
       "2020-12-18  48570\n",
       "\n",
       "[332 rows x 1 columns]"
      ]
     },
     "metadata": {},
     "execution_count": 30
    }
   ],
   "metadata": {
    "colab": {
     "base_uri": "https://localhost:8080/",
     "height": 407
    },
    "executionInfo": {
     "elapsed": 1048,
     "status": "ok",
     "timestamp": 1608392577318,
     "user": {
      "displayName": "안성진",
      "photoUrl": "https://lh3.googleusercontent.com/a-/AOh14GiCjgkN_MvtrSUHRuFvstrWm6fhi5cf7CKd2UHYAw=s64",
      "userId": "00266029492778998652"
     },
     "user_tz": -540
    },
    "id": "nsnAqOXrRdco",
    "outputId": "2e15c77d-368b-4729-d2e8-2a503fbd8911"
   }
  },
  {
   "cell_type": "markdown",
   "source": [
    "가장 대표적인 시각화 패키지인 `matplotlib.pyplot`과 `seaborn`을 이용하여 시각화해보도록 하겠습니다. 이 때, `%matplotlib inline`은 해당 셀에서 바로 그래프를 보이게 할 수 있습니다. 그리고 `pylab`의 `rcParams['figure.figsize']`은 그래프 크기를 조정할 수 있으며, `sns.set`은 격자의 색깔과 글짜 크기를 조정할 수 있습니다."
   ],
   "metadata": {
    "id": "T0pgxj5BeQdm"
   }
  },
  {
   "cell_type": "code",
   "execution_count": 31,
   "source": [
    "!pip install seaborn"
   ],
   "outputs": [
    {
     "output_type": "stream",
     "name": "stdout",
     "text": [
      "Requirement already satisfied: seaborn in c:\\users\\swan4\\appdata\\local\\programs\\python\\python39\\lib\\site-packages (0.11.2)\n",
      "Requirement already satisfied: numpy>=1.15 in c:\\users\\swan4\\appdata\\local\\programs\\python\\python39\\lib\\site-packages (from seaborn) (1.21.0)\n",
      "Requirement already satisfied: scipy>=1.0 in c:\\users\\swan4\\appdata\\local\\programs\\python\\python39\\lib\\site-packages (from seaborn) (1.7.1)\n",
      "Requirement already satisfied: matplotlib>=2.2 in c:\\users\\swan4\\appdata\\local\\programs\\python\\python39\\lib\\site-packages (from seaborn) (3.4.3)\n",
      "Requirement already satisfied: pandas>=0.23 in c:\\users\\swan4\\appdata\\local\\programs\\python\\python39\\lib\\site-packages (from seaborn) (1.3.0)\n",
      "Requirement already satisfied: python-dateutil>=2.7 in c:\\users\\swan4\\appdata\\local\\programs\\python\\python39\\lib\\site-packages (from matplotlib>=2.2->seaborn) (2.8.2)\n",
      "Requirement already satisfied: cycler>=0.10 in c:\\users\\swan4\\appdata\\local\\programs\\python\\python39\\lib\\site-packages (from matplotlib>=2.2->seaborn) (0.10.0)\n",
      "Requirement already satisfied: pyparsing>=2.2.1 in c:\\users\\swan4\\appdata\\local\\programs\\python\\python39\\lib\\site-packages (from matplotlib>=2.2->seaborn) (2.4.7)\n",
      "Requirement already satisfied: pillow>=6.2.0 in c:\\users\\swan4\\appdata\\local\\programs\\python\\python39\\lib\\site-packages (from matplotlib>=2.2->seaborn) (8.3.1)\n",
      "Requirement already satisfied: kiwisolver>=1.0.1 in c:\\users\\swan4\\appdata\\local\\programs\\python\\python39\\lib\\site-packages (from matplotlib>=2.2->seaborn) (1.3.2)\n",
      "Requirement already satisfied: six in c:\\users\\swan4\\appdata\\local\\programs\\python\\python39\\lib\\site-packages (from cycler>=0.10->matplotlib>=2.2->seaborn) (1.16.0)\n",
      "Requirement already satisfied: pytz>=2017.3 in c:\\users\\swan4\\appdata\\local\\programs\\python\\python39\\lib\\site-packages (from pandas>=0.23->seaborn) (2021.1)\n"
     ]
    }
   ],
   "metadata": {}
  },
  {
   "cell_type": "code",
   "execution_count": 32,
   "source": [
    "import matplotlib.pyplot as plt\r\n",
    "import seaborn as sns\r\n",
    "%matplotlib inline\r\n",
    "from pylab import rcParams\r\n",
    "rcParams['figure.figsize'] = 12, 8\r\n",
    "sns.set(style='whitegrid', palette='muted', font_scale=1.2)\r\n",
    "\r\n",
    "plt.plot(korea)\r\n",
    "plt.show()"
   ],
   "outputs": [
    {
     "output_type": "display_data",
     "data": {
      "image/png": "[encoded data removed]",
      "text/plain": [
       "<Figure size 864x576 with 1 Axes>"
      ]
     },
     "metadata": {
      "image/png": {
       "width": 749,
       "height": 470
      }
     }
    }
   ],
   "metadata": {
    "colab": {
     "base_uri": "https://localhost:8080/",
     "height": 474
    },
    "executionInfo": {
     "elapsed": 1956,
     "status": "ok",
     "timestamp": 1608392614944,
     "user": {
      "displayName": "안성진",
      "photoUrl": "https://lh3.googleusercontent.com/a-/AOh14GiCjgkN_MvtrSUHRuFvstrWm6fhi5cf7CKd2UHYAw=s64",
      "userId": "00266029492778998652"
     },
     "user_tz": -540
    },
    "id": "TY9aeXBBRkvI",
    "outputId": "49a1af3f-8ce0-476a-f4ec-f43610b785a5"
   }
  },
  {
   "cell_type": "markdown",
   "source": [
    "이번에는 누적데이터가 아닌 일일 단위로 확진자 수를 알아보겠습니다. `diff`를 이용하면 이전 행과 차이를 구할 수 있어 누적데이터를 쉽게 일별데이터로 바꿀 수 있습니다. 하지만 첫번째 행에는 결측치가 생겨 이를 누적데이터의 첫번째 값으로 채워주어야 합니다. 그리고 데이터 형식은 int(정수)로 바꿔줍니다."
   ],
   "metadata": {
    "id": "Y9nq5bXclKvV"
   }
  },
  {
   "cell_type": "code",
   "execution_count": 33,
   "source": [
    "daily_cases = korea.diff().fillna(korea.iloc[0]).astype('int')\r\n",
    "daily_cases"
   ],
   "outputs": [
    {
     "output_type": "execute_result",
     "data": {
      "text/html": [
       "<div>\n",
       "<style scoped>\n",
       "    .dataframe tbody tr th:only-of-type {\n",
       "        vertical-align: middle;\n",
       "    }\n",
       "\n",
       "    .dataframe tbody tr th {\n",
       "        vertical-align: top;\n",
       "    }\n",
       "\n",
       "    .dataframe thead th {\n",
       "        text-align: right;\n",
       "    }\n",
       "</style>\n",
       "<table border=\"1\" class=\"dataframe\">\n",
       "  <thead>\n",
       "    <tr style=\"text-align: right;\">\n",
       "      <th></th>\n",
       "      <th>157</th>\n",
       "    </tr>\n",
       "  </thead>\n",
       "  <tbody>\n",
       "    <tr>\n",
       "      <th>2020-01-22</th>\n",
       "      <td>1</td>\n",
       "    </tr>\n",
       "    <tr>\n",
       "      <th>2020-01-23</th>\n",
       "      <td>0</td>\n",
       "    </tr>\n",
       "    <tr>\n",
       "      <th>2020-01-24</th>\n",
       "      <td>1</td>\n",
       "    </tr>\n",
       "    <tr>\n",
       "      <th>2020-01-25</th>\n",
       "      <td>0</td>\n",
       "    </tr>\n",
       "    <tr>\n",
       "      <th>2020-01-26</th>\n",
       "      <td>1</td>\n",
       "    </tr>\n",
       "    <tr>\n",
       "      <th>...</th>\n",
       "      <td>...</td>\n",
       "    </tr>\n",
       "    <tr>\n",
       "      <th>2020-12-14</th>\n",
       "      <td>880</td>\n",
       "    </tr>\n",
       "    <tr>\n",
       "      <th>2020-12-15</th>\n",
       "      <td>1078</td>\n",
       "    </tr>\n",
       "    <tr>\n",
       "      <th>2020-12-16</th>\n",
       "      <td>1011</td>\n",
       "    </tr>\n",
       "    <tr>\n",
       "      <th>2020-12-17</th>\n",
       "      <td>1062</td>\n",
       "    </tr>\n",
       "    <tr>\n",
       "      <th>2020-12-18</th>\n",
       "      <td>1055</td>\n",
       "    </tr>\n",
       "  </tbody>\n",
       "</table>\n",
       "<p>332 rows × 1 columns</p>\n",
       "</div>"
      ],
      "text/plain": [
       "             157\n",
       "2020-01-22     1\n",
       "2020-01-23     0\n",
       "2020-01-24     1\n",
       "2020-01-25     0\n",
       "2020-01-26     1\n",
       "...          ...\n",
       "2020-12-14   880\n",
       "2020-12-15  1078\n",
       "2020-12-16  1011\n",
       "2020-12-17  1062\n",
       "2020-12-18  1055\n",
       "\n",
       "[332 rows x 1 columns]"
      ]
     },
     "metadata": {},
     "execution_count": 33
    }
   ],
   "metadata": {
    "colab": {
     "base_uri": "https://localhost:8080/",
     "height": 407
    },
    "executionInfo": {
     "elapsed": 634,
     "status": "ok",
     "timestamp": 1608392640100,
     "user": {
      "displayName": "안성진",
      "photoUrl": "https://lh3.googleusercontent.com/a-/AOh14GiCjgkN_MvtrSUHRuFvstrWm6fhi5cf7CKd2UHYAw=s64",
      "userId": "00266029492778998652"
     },
     "user_tz": -540
    },
    "id": "4toLH18jUqxj",
    "outputId": "059be975-a96b-4726-e228-d062ecc85758"
   }
  },
  {
   "cell_type": "markdown",
   "source": [
    "마찬가지로 일별 확진자수 데이터를 그래프로 나타내면 다음과 같습니다. 위에서 그래프 형식에 대한 셋팅을 미리 해두면 이후에는 똑같이 적용됩니다."
   ],
   "metadata": {
    "id": "A1xMf-kMnzNi"
   }
  },
  {
   "cell_type": "code",
   "execution_count": 34,
   "source": [
    "plt.plot(daily_cases)\r\n",
    "plt.show()"
   ],
   "outputs": [
    {
     "output_type": "display_data",
     "data": {
      "image/png": "[encoded data removed]",
      "text/plain": [
       "<Figure size 864x576 with 1 Axes>"
      ]
     },
     "metadata": {
      "image/png": {
       "width": 742,
       "height": 470
      }
     }
    }
   ],
   "metadata": {
    "colab": {
     "base_uri": "https://localhost:8080/",
     "height": 478
    },
    "executionInfo": {
     "elapsed": 1113,
     "status": "ok",
     "timestamp": 1608392658067,
     "user": {
      "displayName": "안성진",
      "photoUrl": "https://lh3.googleusercontent.com/a-/AOh14GiCjgkN_MvtrSUHRuFvstrWm6fhi5cf7CKd2UHYAw=s64",
      "userId": "00266029492778998652"
     },
     "user_tz": -540
    },
    "id": "E1sO1CS_n6rT",
    "outputId": "4d50e576-dd53-4bec-d6a0-6df0fc032bc1"
   }
  },
  {
   "cell_type": "markdown",
   "source": [
    "3월초와 8월말에 급증하는 시기가 있고, 지속적으로 확진자가 발생하고 있는 것을 볼 수 있습니다. 그리고 연말이 되면서 다시 증가 추세를 보이고 있습니다.\n",
    "\n",
    "이렇게 이번장에서 전세계와 대한민국의 코로나 확진자 수 데이터에 대해 알아보았습니다. 다음장부터는 대한민국 일별 코로나 확진자 수에 대해서 전처리하고 모델링하는 과정에 대해 알아보도록 하겠습니다."
   ],
   "metadata": {
    "id": "6ahHPDG8o80r"
   }
  }
 ],
 "metadata": {
  "celltoolbar": "Tags",
  "colab": {
   "collapsed_sections": [],
   "name": "Ch2. 데이터 탐색.ipynb",
   "provenance": []
  },
  "kernelspec": {
   "name": "python3",
   "display_name": "Python 3.9.6 64-bit"
  },
  "language_info": {
   "codemirror_mode": {
    "name": "ipython",
    "version": 3
   },
   "file_extension": ".py",
   "mimetype": "text/x-python",
   "name": "python",
   "nbconvert_exporter": "python",
   "pygments_lexer": "ipython3",
   "version": "3.9.6"
  },
  "interpreter": {
   "hash": "91fa4ce6aae8c6710e24d087068f91dd0bd45b1fb43fdf6e02b1c3fbf71d5aa7"
  }
 },
 "nbformat": 4,
 "nbformat_minor": 4
}